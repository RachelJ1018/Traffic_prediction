{
 "cells": [
  {
   "cell_type": "code",
   "execution_count": 1,
   "metadata": {},
   "outputs": [],
   "source": [
    "import tensorflow as tf"
   ]
  },
  {
   "cell_type": "code",
   "execution_count": 2,
   "metadata": {},
   "outputs": [],
   "source": [
    "import pandas as pd\n",
    "import numpy as np"
   ]
  },
  {
   "cell_type": "code",
   "execution_count": 3,
   "metadata": {},
   "outputs": [],
   "source": [
    "MyData=pd.read_csv('../Data/train20171001.csv')"
   ]
  },
  {
   "cell_type": "code",
   "execution_count": 4,
   "metadata": {},
   "outputs": [
    {
     "data": {
      "text/html": [
       "<div>\n",
       "<style>\n",
       "    .dataframe thead tr:only-child th {\n",
       "        text-align: right;\n",
       "    }\n",
       "\n",
       "    .dataframe thead th {\n",
       "        text-align: left;\n",
       "    }\n",
       "\n",
       "    .dataframe tbody tr th {\n",
       "        vertical-align: top;\n",
       "    }\n",
       "</style>\n",
       "<table border=\"1\" class=\"dataframe\">\n",
       "  <thead>\n",
       "    <tr style=\"text-align: right;\">\n",
       "      <th></th>\n",
       "      <th>O_LINENO</th>\n",
       "      <th>O_TERMINALNO</th>\n",
       "      <th>O_TIME</th>\n",
       "      <th>O_LONGITUDE</th>\n",
       "      <th>O_LATITUDE</th>\n",
       "      <th>O_SPEED</th>\n",
       "      <th>O_MIDDOOR</th>\n",
       "      <th>O_REARDOOR</th>\n",
       "      <th>O_FRONTDOOR</th>\n",
       "      <th>O_UP</th>\n",
       "      <th>O_RUN</th>\n",
       "      <th>O_NEXTSTATIONNO</th>\n",
       "    </tr>\n",
       "  </thead>\n",
       "  <tbody>\n",
       "    <tr>\n",
       "      <th>0</th>\n",
       "      <td>671</td>\n",
       "      <td>911410</td>\n",
       "      <td>06:37:05</td>\n",
       "      <td>117.178</td>\n",
       "      <td>39.1618</td>\n",
       "      <td>0</td>\n",
       "      <td>1</td>\n",
       "      <td>0</td>\n",
       "      <td>0</td>\n",
       "      <td>0</td>\n",
       "      <td>0</td>\n",
       "      <td>2</td>\n",
       "    </tr>\n",
       "    <tr>\n",
       "      <th>1</th>\n",
       "      <td>671</td>\n",
       "      <td>911410</td>\n",
       "      <td>06:37:27</td>\n",
       "      <td>117.178</td>\n",
       "      <td>39.1618</td>\n",
       "      <td>0</td>\n",
       "      <td>1</td>\n",
       "      <td>0</td>\n",
       "      <td>0</td>\n",
       "      <td>0</td>\n",
       "      <td>0</td>\n",
       "      <td>2</td>\n",
       "    </tr>\n",
       "    <tr>\n",
       "      <th>2</th>\n",
       "      <td>671</td>\n",
       "      <td>911410</td>\n",
       "      <td>06:37:38</td>\n",
       "      <td>117.178</td>\n",
       "      <td>39.1618</td>\n",
       "      <td>0</td>\n",
       "      <td>1</td>\n",
       "      <td>0</td>\n",
       "      <td>0</td>\n",
       "      <td>0</td>\n",
       "      <td>0</td>\n",
       "      <td>2</td>\n",
       "    </tr>\n",
       "    <tr>\n",
       "      <th>3</th>\n",
       "      <td>671</td>\n",
       "      <td>911410</td>\n",
       "      <td>06:37:48</td>\n",
       "      <td>117.178</td>\n",
       "      <td>39.1618</td>\n",
       "      <td>0</td>\n",
       "      <td>1</td>\n",
       "      <td>0</td>\n",
       "      <td>0</td>\n",
       "      <td>0</td>\n",
       "      <td>0</td>\n",
       "      <td>2</td>\n",
       "    </tr>\n",
       "    <tr>\n",
       "      <th>4</th>\n",
       "      <td>671</td>\n",
       "      <td>911410</td>\n",
       "      <td>06:37:58</td>\n",
       "      <td>117.178</td>\n",
       "      <td>39.1618</td>\n",
       "      <td>0</td>\n",
       "      <td>1</td>\n",
       "      <td>0</td>\n",
       "      <td>0</td>\n",
       "      <td>0</td>\n",
       "      <td>0</td>\n",
       "      <td>2</td>\n",
       "    </tr>\n",
       "    <tr>\n",
       "      <th>5</th>\n",
       "      <td>671</td>\n",
       "      <td>911410</td>\n",
       "      <td>06:38:08</td>\n",
       "      <td>117.178</td>\n",
       "      <td>39.1618</td>\n",
       "      <td>0</td>\n",
       "      <td>1</td>\n",
       "      <td>0</td>\n",
       "      <td>0</td>\n",
       "      <td>0</td>\n",
       "      <td>0</td>\n",
       "      <td>2</td>\n",
       "    </tr>\n",
       "    <tr>\n",
       "      <th>6</th>\n",
       "      <td>671</td>\n",
       "      <td>911410</td>\n",
       "      <td>06:38:18</td>\n",
       "      <td>117.178</td>\n",
       "      <td>39.1618</td>\n",
       "      <td>0</td>\n",
       "      <td>1</td>\n",
       "      <td>0</td>\n",
       "      <td>0</td>\n",
       "      <td>0</td>\n",
       "      <td>0</td>\n",
       "      <td>2</td>\n",
       "    </tr>\n",
       "    <tr>\n",
       "      <th>7</th>\n",
       "      <td>671</td>\n",
       "      <td>911410</td>\n",
       "      <td>06:38:28</td>\n",
       "      <td>117.178</td>\n",
       "      <td>39.1618</td>\n",
       "      <td>0</td>\n",
       "      <td>1</td>\n",
       "      <td>0</td>\n",
       "      <td>0</td>\n",
       "      <td>0</td>\n",
       "      <td>0</td>\n",
       "      <td>2</td>\n",
       "    </tr>\n",
       "    <tr>\n",
       "      <th>8</th>\n",
       "      <td>671</td>\n",
       "      <td>911410</td>\n",
       "      <td>06:38:38</td>\n",
       "      <td>117.178</td>\n",
       "      <td>39.1618</td>\n",
       "      <td>0</td>\n",
       "      <td>1</td>\n",
       "      <td>0</td>\n",
       "      <td>0</td>\n",
       "      <td>0</td>\n",
       "      <td>0</td>\n",
       "      <td>2</td>\n",
       "    </tr>\n",
       "    <tr>\n",
       "      <th>9</th>\n",
       "      <td>671</td>\n",
       "      <td>911410</td>\n",
       "      <td>06:38:48</td>\n",
       "      <td>117.178</td>\n",
       "      <td>39.1618</td>\n",
       "      <td>0</td>\n",
       "      <td>1</td>\n",
       "      <td>0</td>\n",
       "      <td>0</td>\n",
       "      <td>0</td>\n",
       "      <td>0</td>\n",
       "      <td>2</td>\n",
       "    </tr>\n",
       "  </tbody>\n",
       "</table>\n",
       "</div>"
      ],
      "text/plain": [
       "   O_LINENO  O_TERMINALNO    O_TIME  O_LONGITUDE  O_LATITUDE  O_SPEED  \\\n",
       "0       671        911410  06:37:05      117.178     39.1618        0   \n",
       "1       671        911410  06:37:27      117.178     39.1618        0   \n",
       "2       671        911410  06:37:38      117.178     39.1618        0   \n",
       "3       671        911410  06:37:48      117.178     39.1618        0   \n",
       "4       671        911410  06:37:58      117.178     39.1618        0   \n",
       "5       671        911410  06:38:08      117.178     39.1618        0   \n",
       "6       671        911410  06:38:18      117.178     39.1618        0   \n",
       "7       671        911410  06:38:28      117.178     39.1618        0   \n",
       "8       671        911410  06:38:38      117.178     39.1618        0   \n",
       "9       671        911410  06:38:48      117.178     39.1618        0   \n",
       "\n",
       "   O_MIDDOOR  O_REARDOOR  O_FRONTDOOR  O_UP  O_RUN  O_NEXTSTATIONNO  \n",
       "0          1           0            0     0      0                2  \n",
       "1          1           0            0     0      0                2  \n",
       "2          1           0            0     0      0                2  \n",
       "3          1           0            0     0      0                2  \n",
       "4          1           0            0     0      0                2  \n",
       "5          1           0            0     0      0                2  \n",
       "6          1           0            0     0      0                2  \n",
       "7          1           0            0     0      0                2  \n",
       "8          1           0            0     0      0                2  \n",
       "9          1           0            0     0      0                2  "
      ]
     },
     "execution_count": 4,
     "metadata": {},
     "output_type": "execute_result"
    }
   ],
   "source": [
    "MyData.head(10)"
   ]
  },
  {
   "cell_type": "code",
   "execution_count": 5,
   "metadata": {},
   "outputs": [],
   "source": [
    "col_keep=['O_LINENO','O_TERMINALNO','O_TIME','O_UP','O_RUN','O_NEXTSTATIONNO']\n",
    "data=MyData.loc[:,col_keep]"
   ]
  },
  {
   "cell_type": "code",
   "execution_count": 6,
   "metadata": {},
   "outputs": [
    {
     "data": {
      "text/html": [
       "<div>\n",
       "<style>\n",
       "    .dataframe thead tr:only-child th {\n",
       "        text-align: right;\n",
       "    }\n",
       "\n",
       "    .dataframe thead th {\n",
       "        text-align: left;\n",
       "    }\n",
       "\n",
       "    .dataframe tbody tr th {\n",
       "        vertical-align: top;\n",
       "    }\n",
       "</style>\n",
       "<table border=\"1\" class=\"dataframe\">\n",
       "  <thead>\n",
       "    <tr style=\"text-align: right;\">\n",
       "      <th></th>\n",
       "      <th>O_LINENO</th>\n",
       "      <th>O_TERMINALNO</th>\n",
       "      <th>O_TIME</th>\n",
       "      <th>O_UP</th>\n",
       "      <th>O_RUN</th>\n",
       "      <th>O_NEXTSTATIONNO</th>\n",
       "    </tr>\n",
       "  </thead>\n",
       "  <tbody>\n",
       "    <tr>\n",
       "      <th>0</th>\n",
       "      <td>671</td>\n",
       "      <td>911410</td>\n",
       "      <td>06:37:05</td>\n",
       "      <td>0</td>\n",
       "      <td>0</td>\n",
       "      <td>2</td>\n",
       "    </tr>\n",
       "    <tr>\n",
       "      <th>1</th>\n",
       "      <td>671</td>\n",
       "      <td>911410</td>\n",
       "      <td>06:37:27</td>\n",
       "      <td>0</td>\n",
       "      <td>0</td>\n",
       "      <td>2</td>\n",
       "    </tr>\n",
       "    <tr>\n",
       "      <th>2</th>\n",
       "      <td>671</td>\n",
       "      <td>911410</td>\n",
       "      <td>06:37:38</td>\n",
       "      <td>0</td>\n",
       "      <td>0</td>\n",
       "      <td>2</td>\n",
       "    </tr>\n",
       "    <tr>\n",
       "      <th>3</th>\n",
       "      <td>671</td>\n",
       "      <td>911410</td>\n",
       "      <td>06:37:48</td>\n",
       "      <td>0</td>\n",
       "      <td>0</td>\n",
       "      <td>2</td>\n",
       "    </tr>\n",
       "    <tr>\n",
       "      <th>4</th>\n",
       "      <td>671</td>\n",
       "      <td>911410</td>\n",
       "      <td>06:37:58</td>\n",
       "      <td>0</td>\n",
       "      <td>0</td>\n",
       "      <td>2</td>\n",
       "    </tr>\n",
       "    <tr>\n",
       "      <th>5</th>\n",
       "      <td>671</td>\n",
       "      <td>911410</td>\n",
       "      <td>06:38:08</td>\n",
       "      <td>0</td>\n",
       "      <td>0</td>\n",
       "      <td>2</td>\n",
       "    </tr>\n",
       "    <tr>\n",
       "      <th>6</th>\n",
       "      <td>671</td>\n",
       "      <td>911410</td>\n",
       "      <td>06:38:18</td>\n",
       "      <td>0</td>\n",
       "      <td>0</td>\n",
       "      <td>2</td>\n",
       "    </tr>\n",
       "    <tr>\n",
       "      <th>7</th>\n",
       "      <td>671</td>\n",
       "      <td>911410</td>\n",
       "      <td>06:38:28</td>\n",
       "      <td>0</td>\n",
       "      <td>0</td>\n",
       "      <td>2</td>\n",
       "    </tr>\n",
       "    <tr>\n",
       "      <th>8</th>\n",
       "      <td>671</td>\n",
       "      <td>911410</td>\n",
       "      <td>06:38:38</td>\n",
       "      <td>0</td>\n",
       "      <td>0</td>\n",
       "      <td>2</td>\n",
       "    </tr>\n",
       "    <tr>\n",
       "      <th>9</th>\n",
       "      <td>671</td>\n",
       "      <td>911410</td>\n",
       "      <td>06:38:48</td>\n",
       "      <td>0</td>\n",
       "      <td>0</td>\n",
       "      <td>2</td>\n",
       "    </tr>\n",
       "  </tbody>\n",
       "</table>\n",
       "</div>"
      ],
      "text/plain": [
       "   O_LINENO  O_TERMINALNO    O_TIME  O_UP  O_RUN  O_NEXTSTATIONNO\n",
       "0       671        911410  06:37:05     0      0                2\n",
       "1       671        911410  06:37:27     0      0                2\n",
       "2       671        911410  06:37:38     0      0                2\n",
       "3       671        911410  06:37:48     0      0                2\n",
       "4       671        911410  06:37:58     0      0                2\n",
       "5       671        911410  06:38:08     0      0                2\n",
       "6       671        911410  06:38:18     0      0                2\n",
       "7       671        911410  06:38:28     0      0                2\n",
       "8       671        911410  06:38:38     0      0                2\n",
       "9       671        911410  06:38:48     0      0                2"
      ]
     },
     "execution_count": 6,
     "metadata": {},
     "output_type": "execute_result"
    }
   ],
   "source": [
    "data.head(10)"
   ]
  },
  {
   "cell_type": "code",
   "execution_count": 7,
   "metadata": {},
   "outputs": [],
   "source": [
    "data1=data[data.O_RUN==1]"
   ]
  },
  {
   "cell_type": "code",
   "execution_count": 8,
   "metadata": {},
   "outputs": [
    {
     "data": {
      "text/plain": [
       "(24276838, 6)"
      ]
     },
     "execution_count": 8,
     "metadata": {},
     "output_type": "execute_result"
    }
   ],
   "source": [
    "data.shape"
   ]
  },
  {
   "cell_type": "code",
   "execution_count": 9,
   "metadata": {},
   "outputs": [
    {
     "data": {
      "text/plain": [
       "(20133853, 6)"
      ]
     },
     "execution_count": 9,
     "metadata": {},
     "output_type": "execute_result"
    }
   ],
   "source": [
    "data1.shape"
   ]
  },
  {
   "cell_type": "code",
   "execution_count": 10,
   "metadata": {},
   "outputs": [
    {
     "data": {
      "text/plain": [
       "(4142985, 6)"
      ]
     },
     "execution_count": 10,
     "metadata": {},
     "output_type": "execute_result"
    }
   ],
   "source": [
    "data2=data[data.O_RUN==0]\n",
    "data2.shape"
   ]
  },
  {
   "cell_type": "code",
   "execution_count": 11,
   "metadata": {},
   "outputs": [
    {
     "data": {
      "text/plain": [
       "0.20577208942570505"
      ]
     },
     "execution_count": 11,
     "metadata": {},
     "output_type": "execute_result"
    }
   ],
   "source": [
    "len(data2)/len(data1)\n"
   ]
  },
  {
   "cell_type": "code",
   "execution_count": 19,
   "metadata": {},
   "outputs": [
    {
     "data": {
      "text/html": [
       "<div>\n",
       "<style>\n",
       "    .dataframe thead tr:only-child th {\n",
       "        text-align: right;\n",
       "    }\n",
       "\n",
       "    .dataframe thead th {\n",
       "        text-align: left;\n",
       "    }\n",
       "\n",
       "    .dataframe tbody tr th {\n",
       "        vertical-align: top;\n",
       "    }\n",
       "</style>\n",
       "<table border=\"1\" class=\"dataframe\">\n",
       "  <thead>\n",
       "    <tr style=\"text-align: right;\">\n",
       "      <th></th>\n",
       "      <th>O_LINENO</th>\n",
       "      <th>O_TERMINALNO</th>\n",
       "      <th>O_TIME</th>\n",
       "      <th>O_UP</th>\n",
       "      <th>O_RUN</th>\n",
       "      <th>O_NEXTSTATIONNO</th>\n",
       "    </tr>\n",
       "  </thead>\n",
       "  <tbody>\n",
       "    <tr>\n",
       "      <th>12</th>\n",
       "      <td>804</td>\n",
       "      <td>911536</td>\n",
       "      <td>06:01:44</td>\n",
       "      <td>0</td>\n",
       "      <td>1</td>\n",
       "      <td>22</td>\n",
       "    </tr>\n",
       "    <tr>\n",
       "      <th>14</th>\n",
       "      <td>12</td>\n",
       "      <td>901791</td>\n",
       "      <td>06:01:44</td>\n",
       "      <td>1</td>\n",
       "      <td>1</td>\n",
       "      <td>14</td>\n",
       "    </tr>\n",
       "    <tr>\n",
       "      <th>15</th>\n",
       "      <td>608</td>\n",
       "      <td>903876</td>\n",
       "      <td>06:01:43</td>\n",
       "      <td>1</td>\n",
       "      <td>1</td>\n",
       "      <td>17</td>\n",
       "    </tr>\n",
       "    <tr>\n",
       "      <th>17</th>\n",
       "      <td>563</td>\n",
       "      <td>907020</td>\n",
       "      <td>06:01:44</td>\n",
       "      <td>0</td>\n",
       "      <td>1</td>\n",
       "      <td>3</td>\n",
       "    </tr>\n",
       "    <tr>\n",
       "      <th>18</th>\n",
       "      <td>802</td>\n",
       "      <td>902028</td>\n",
       "      <td>06:01:41</td>\n",
       "      <td>1</td>\n",
       "      <td>1</td>\n",
       "      <td>2</td>\n",
       "    </tr>\n",
       "    <tr>\n",
       "      <th>20</th>\n",
       "      <td>12</td>\n",
       "      <td>901794</td>\n",
       "      <td>06:01:43</td>\n",
       "      <td>1</td>\n",
       "      <td>1</td>\n",
       "      <td>2</td>\n",
       "    </tr>\n",
       "    <tr>\n",
       "      <th>21</th>\n",
       "      <td>746</td>\n",
       "      <td>905257</td>\n",
       "      <td>06:01:42</td>\n",
       "      <td>0</td>\n",
       "      <td>1</td>\n",
       "      <td>14</td>\n",
       "    </tr>\n",
       "    <tr>\n",
       "      <th>23</th>\n",
       "      <td>733</td>\n",
       "      <td>911431</td>\n",
       "      <td>06:01:45</td>\n",
       "      <td>0</td>\n",
       "      <td>1</td>\n",
       "      <td>2</td>\n",
       "    </tr>\n",
       "    <tr>\n",
       "      <th>25</th>\n",
       "      <td>572</td>\n",
       "      <td>903038</td>\n",
       "      <td>06:01:44</td>\n",
       "      <td>0</td>\n",
       "      <td>1</td>\n",
       "      <td>25</td>\n",
       "    </tr>\n",
       "    <tr>\n",
       "      <th>26</th>\n",
       "      <td>902</td>\n",
       "      <td>905381</td>\n",
       "      <td>06:01:42</td>\n",
       "      <td>1</td>\n",
       "      <td>1</td>\n",
       "      <td>25</td>\n",
       "    </tr>\n",
       "  </tbody>\n",
       "</table>\n",
       "</div>"
      ],
      "text/plain": [
       "    O_LINENO  O_TERMINALNO    O_TIME  O_UP  O_RUN  O_NEXTSTATIONNO\n",
       "12       804        911536  06:01:44     0      1               22\n",
       "14        12        901791  06:01:44     1      1               14\n",
       "15       608        903876  06:01:43     1      1               17\n",
       "17       563        907020  06:01:44     0      1                3\n",
       "18       802        902028  06:01:41     1      1                2\n",
       "20        12        901794  06:01:43     1      1                2\n",
       "21       746        905257  06:01:42     0      1               14\n",
       "23       733        911431  06:01:45     0      1                2\n",
       "25       572        903038  06:01:44     0      1               25\n",
       "26       902        905381  06:01:42     1      1               25"
      ]
     },
     "execution_count": 19,
     "metadata": {},
     "output_type": "execute_result"
    }
   ],
   "source": [
    "data1.head(10)"
   ]
  },
  {
   "cell_type": "code",
   "execution_count": 12,
   "metadata": {},
   "outputs": [],
   "source": [
    "data= data.sort_values(by='O_TIME',ascending=False)"
   ]
  },
  {
   "cell_type": "code",
   "execution_count": 22,
   "metadata": {},
   "outputs": [
    {
     "data": {
      "text/plain": [
       "O_LINENO  O_TERMINALNO  O_NEXTSTATIONNO\n",
       "1         901530        2                   93\n",
       "                        3                   96\n",
       "                        4                   85\n",
       "                        5                  158\n",
       "                        6                  186\n",
       "                        7                  115\n",
       "                        8                   54\n",
       "                        9                  122\n",
       "                        10                 110\n",
       "                        11                  84\n",
       "Name: O_TIME, dtype: int64"
      ]
     },
     "execution_count": 22,
     "metadata": {},
     "output_type": "execute_result"
    }
   ],
   "source": [
    "#data.groupby(['O_LINENO'])['O_TERMINALNO'].count()\n",
    "data1_Time= data1.groupby(['O_LINENO', 'O_TERMINALNO', 'O_NEXTSTATIONNO'])['O_TIME'].count()\n",
    "data1_Time.head(10)"
   ]
  },
  {
   "cell_type": "code",
   "execution_count": 31,
   "metadata": {},
   "outputs": [],
   "source": [
    "data1_M=data1.groupby(['O_LINENO', 'O_TERMINALNO','O_UP'])['O_NEXTSTATIONNO'].unique()"
   ]
  },
  {
   "cell_type": "code",
   "execution_count": 32,
   "metadata": {},
   "outputs": [
    {
     "data": {
      "text/plain": [
       "O_LINENO  O_TERMINALNO  O_UP\n",
       "1         901530        0       [2, 3, 5, 4, 7, 6, 8, 11, 10, 9, 12, 13, 15, 1...\n",
       "                        1       [30, 2, 5, 4, 7, 6, 8, 9, 10, 11, 12, 13, 14, ...\n",
       "          902731        0       [2, 3, 4, 9, 8, 10, 5, 6, 7, 16, 15, 11, 12, 1...\n",
       "                        1       [30, 5, 6, 4, 2, 13, 12, 11, 7, 8, 10, 9, 18, ...\n",
       "          902732        0       [3, 4, 2, 7, 8, 9, 5, 6, 15, 14, 16, 10, 12, 1...\n",
       "                        1       [30, 8, 9, 7, 10, 5, 6, 4, 2, 17, 18, 13, 11, ...\n",
       "          902733        0       [31, 2, 3, 4, 5, 6, 7, 8, 9, 10, 11, 12, 13, 1...\n",
       "                        1       [5, 4, 2, 8, 7, 9, 6, 11, 10, 13, 14, 12, 15, ...\n",
       "          902734        0       [8, 7, 3, 4, 2, 6, 5, 16, 15, 9, 10, 14, 13, 1...\n",
       "                        1       [4, 5, 6, 7, 9, 8, 10, 12, 11, 13, 14, 15, 17,...\n",
       "          902736        0       [31, 2, 5, 3, 4, 12, 11, 10, 6, 9, 7, 8, 17, 1...\n",
       "                        1       [12, 13, 11, 10, 2, 4, 5, 9, 8, 6, 7, 18, 14, ...\n",
       "          902737        0       [31, 30, 3, 4, 2, 11, 9, 10, 5, 7, 8, 6, 15, 1...\n",
       "                        1       [2, 4, 5, 6, 7, 10, 9, 8, 12, 11, 13, 14, 15, ...\n",
       "          902738        0       [31, 3, 2, 9, 7, 8, 5, 4, 6, 15, 16, 11, 10, 1...\n",
       "                        1       [2, 5, 4, 6, 7, 10, 9, 8, 11, 12, 13, 14, 15, ...\n",
       "          902745        0       [2, 3, 4, 5, 6, 7, 8, 9, 11, 10, 12, 13, 14, 1...\n",
       "                        1       [5, 9, 8, 7, 6, 10, 11, 12, 13, 15, 14, 16, 17...\n",
       "          902746        0       [2, 4, 3, 5, 6, 9, 8, 7, 10, 12, 11, 13, 14, 1...\n",
       "                        1       [13, 14, 12, 17, 15, 16, 19, 18, 22, 21, 20, 2...\n",
       "Name: O_NEXTSTATIONNO, dtype: object"
      ]
     },
     "execution_count": 32,
     "metadata": {},
     "output_type": "execute_result"
    }
   ],
   "source": [
    "data1_M.head(20)"
   ]
  },
  {
   "cell_type": "code",
   "execution_count": 33,
   "metadata": {},
   "outputs": [
    {
     "data": {
      "text/plain": [
       "826      299916\n",
       "808      267478\n",
       "652      212767\n",
       "688      193105\n",
       "570      182285\n",
       "462      173022\n",
       "912      172081\n",
       "856      169520\n",
       "906      169107\n",
       "629      167974\n",
       "800      162534\n",
       "563      162431\n",
       "186      146299\n",
       "859      138605\n",
       "867      136945\n",
       "855      135159\n",
       "619      132784\n",
       "911      132766\n",
       "628      132626\n",
       "850      125722\n",
       "686      121383\n",
       "872      121358\n",
       "1        120603\n",
       "676      117826\n",
       "961      117464\n",
       "185      117293\n",
       "673      113849\n",
       "665      113308\n",
       "832      112032\n",
       "208      110962\n",
       "          ...  \n",
       "584        3369\n",
       "479        3235\n",
       "202        3023\n",
       "306        3017\n",
       "453        2717\n",
       "338        2664\n",
       "567        2613\n",
       "6201       2449\n",
       "41007      2408\n",
       "4011       2225\n",
       "534        2121\n",
       "368        1794\n",
       "311        1786\n",
       "729        1494\n",
       "55052      1460\n",
       "5094       1133\n",
       "4203       1056\n",
       "305         777\n",
       "747         767\n",
       "217         579\n",
       "334         369\n",
       "55051       253\n",
       "55002        69\n",
       "152          67\n",
       "172          42\n",
       "55010         7\n",
       "55015         2\n",
       "464           2\n",
       "313           2\n",
       "811           1\n",
       "Name: O_LINENO, Length: 422, dtype: int64"
      ]
     },
     "execution_count": 33,
     "metadata": {},
     "output_type": "execute_result"
    }
   ],
   "source": [
    "data1['O_LINENO'].value_counts()"
   ]
  },
  {
   "cell_type": "code",
   "execution_count": 36,
   "metadata": {},
   "outputs": [],
   "source": [
    "from sklearn.linear_model import LogisticRegression\n",
    "from sklearn import metrics\n",
    "from sklearn import preprocessing"
   ]
  },
  {
   "cell_type": "code",
   "execution_count": 37,
   "metadata": {},
   "outputs": [],
   "source": [
    "YM=data1.O_LINENO"
   ]
  },
  {
   "cell_type": "code",
   "execution_count": 38,
   "metadata": {},
   "outputs": [],
   "source": [
    "y_enc = preprocessing.LabelEncoder()\n",
    "y_enc.fit(YM.astype(str))\n",
    "YM_New=y_enc.transform(YM.astype(str))"
   ]
  },
  {
   "cell_type": "code",
   "execution_count": 39,
   "metadata": {},
   "outputs": [
    {
     "data": {
      "text/plain": [
       "array([343,   3, 207, ..., 130, 130, 130])"
      ]
     },
     "execution_count": 39,
     "metadata": {},
     "output_type": "execute_result"
    }
   ],
   "source": [
    "YM_New"
   ]
  },
  {
   "cell_type": "code",
   "execution_count": 40,
   "metadata": {},
   "outputs": [
    {
     "data": {
      "text/plain": [
       "(20133853,)"
      ]
     },
     "execution_count": 40,
     "metadata": {},
     "output_type": "execute_result"
    }
   ],
   "source": [
    "YM_New.shape"
   ]
  },
  {
   "cell_type": "code",
   "execution_count": 41,
   "metadata": {},
   "outputs": [
    {
     "data": {
      "text/plain": [
       "(20133853,)"
      ]
     },
     "execution_count": 41,
     "metadata": {},
     "output_type": "execute_result"
    }
   ],
   "source": [
    "YM.shape"
   ]
  },
  {
   "cell_type": "code",
   "execution_count": null,
   "metadata": {},
   "outputs": [],
   "source": []
  }
 ],
 "metadata": {
  "kernelspec": {
   "display_name": "Python 3",
   "language": "python",
   "name": "python3"
  },
  "language_info": {
   "codemirror_mode": {
    "name": "ipython",
    "version": 3
   },
   "file_extension": ".py",
   "mimetype": "text/x-python",
   "name": "python",
   "nbconvert_exporter": "python",
   "pygments_lexer": "ipython3",
   "version": "3.6.4"
  }
 },
 "nbformat": 4,
 "nbformat_minor": 2
}
