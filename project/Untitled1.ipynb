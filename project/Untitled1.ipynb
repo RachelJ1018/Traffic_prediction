{
 "cells": [
  {
   "cell_type": "code",
   "execution_count": 1,
   "metadata": {},
   "outputs": [],
   "source": [
    "import numpy as np\n",
    "import pandas as pd\n"
   ]
  },
  {
   "cell_type": "code",
   "execution_count": null,
   "metadata": {},
   "outputs": [],
   "source": []
  },
  {
   "cell_type": "code",
   "execution_count": 2,
   "metadata": {},
   "outputs": [],
   "source": [
    "data=pd.read_csv('Data/pre_result_decsion31.csv',names=['time'])"
   ]
  },
  {
   "cell_type": "code",
   "execution_count": 3,
   "metadata": {},
   "outputs": [
    {
     "data": {
      "text/html": [
       "<div>\n",
       "<style>\n",
       "    .dataframe thead tr:only-child th {\n",
       "        text-align: right;\n",
       "    }\n",
       "\n",
       "    .dataframe thead th {\n",
       "        text-align: left;\n",
       "    }\n",
       "\n",
       "    .dataframe tbody tr th {\n",
       "        vertical-align: top;\n",
       "    }\n",
       "</style>\n",
       "<table border=\"1\" class=\"dataframe\">\n",
       "  <thead>\n",
       "    <tr style=\"text-align: right;\">\n",
       "      <th></th>\n",
       "      <th>time</th>\n",
       "    </tr>\n",
       "  </thead>\n",
       "  <tbody>\n",
       "    <tr>\n",
       "      <th>0</th>\n",
       "      <td>302.763744</td>\n",
       "    </tr>\n",
       "    <tr>\n",
       "      <th>1</th>\n",
       "      <td>116.296936</td>\n",
       "    </tr>\n",
       "    <tr>\n",
       "      <th>2</th>\n",
       "      <td>323.912351</td>\n",
       "    </tr>\n",
       "    <tr>\n",
       "      <th>3</th>\n",
       "      <td>174.946718</td>\n",
       "    </tr>\n",
       "    <tr>\n",
       "      <th>4</th>\n",
       "      <td>157.079165</td>\n",
       "    </tr>\n",
       "  </tbody>\n",
       "</table>\n",
       "</div>"
      ],
      "text/plain": [
       "         time\n",
       "0  302.763744\n",
       "1  116.296936\n",
       "2  323.912351\n",
       "3  174.946718\n",
       "4  157.079165"
      ]
     },
     "execution_count": 3,
     "metadata": {},
     "output_type": "execute_result"
    }
   ],
   "source": [
    "data.head()"
   ]
  },
  {
   "cell_type": "code",
   "execution_count": 4,
   "metadata": {},
   "outputs": [
    {
     "data": {
      "text/plain": [
       "[7, 8, 9, 10, 11, 12, 13, 14, 15, 16, 17, 18, 19]"
      ]
     },
     "execution_count": 4,
     "metadata": {},
     "output_type": "execute_result"
    }
   ],
   "source": [
    "predict=pd.read_csv('Data/toBePredicted_forUser.csv')\n",
    "station_series=[]\n",
    "for i in range(len(predict)):\n",
    "    m=predict['pred_start_stop_ID'].loc[i]\n",
    "    n=predict['pred_end_stop_ID'].loc[i]+1\n",
    "    i_series=[]\n",
    "    for j in range(m,n):\n",
    "#          predict.iloc[i,'M%d'%j]=j\n",
    "          i_series.append(j)\n",
    "    station_series.append(i_series)\n",
    "    \n",
    "predict['Middle_station']=station_series\n",
    "predict.head()\n",
    "predict.Middle_station.loc[1]"
   ]
  },
  {
   "cell_type": "code",
   "execution_count": 5,
   "metadata": {},
   "outputs": [],
   "source": [
    "col_selection=['O_DATA','O_LINENO','O_TERMINALNO','predHour','pred_start_stop_ID','pred_end_stop_ID']\n",
    "pre_data=predict.loc[:,col_selection]"
   ]
  },
  {
   "cell_type": "code",
   "execution_count": 6,
   "metadata": {},
   "outputs": [
    {
     "data": {
      "text/html": [
       "<div>\n",
       "<style>\n",
       "    .dataframe thead tr:only-child th {\n",
       "        text-align: right;\n",
       "    }\n",
       "\n",
       "    .dataframe thead th {\n",
       "        text-align: left;\n",
       "    }\n",
       "\n",
       "    .dataframe tbody tr th {\n",
       "        vertical-align: top;\n",
       "    }\n",
       "</style>\n",
       "<table border=\"1\" class=\"dataframe\">\n",
       "  <thead>\n",
       "    <tr style=\"text-align: right;\">\n",
       "      <th></th>\n",
       "      <th>O_DATA</th>\n",
       "      <th>O_LINENO</th>\n",
       "      <th>O_TERMINALNO</th>\n",
       "      <th>predHour</th>\n",
       "      <th>pred_start_stop_ID</th>\n",
       "      <th>pred_end_stop_ID</th>\n",
       "    </tr>\n",
       "  </thead>\n",
       "  <tbody>\n",
       "    <tr>\n",
       "      <th>0</th>\n",
       "      <td>10-28</td>\n",
       "      <td>678</td>\n",
       "      <td>904388</td>\n",
       "      <td>14:00:00</td>\n",
       "      <td>12</td>\n",
       "      <td>33</td>\n",
       "    </tr>\n",
       "    <tr>\n",
       "      <th>1</th>\n",
       "      <td>10-26</td>\n",
       "      <td>13</td>\n",
       "      <td>902540</td>\n",
       "      <td>17:00:00</td>\n",
       "      <td>7</td>\n",
       "      <td>19</td>\n",
       "    </tr>\n",
       "    <tr>\n",
       "      <th>2</th>\n",
       "      <td>10-27</td>\n",
       "      <td>711</td>\n",
       "      <td>906948</td>\n",
       "      <td>13:00:00</td>\n",
       "      <td>12</td>\n",
       "      <td>44</td>\n",
       "    </tr>\n",
       "    <tr>\n",
       "      <th>3</th>\n",
       "      <td>10-28</td>\n",
       "      <td>912</td>\n",
       "      <td>907336</td>\n",
       "      <td>12:00:00</td>\n",
       "      <td>8</td>\n",
       "      <td>31</td>\n",
       "    </tr>\n",
       "    <tr>\n",
       "      <th>4</th>\n",
       "      <td>10-28</td>\n",
       "      <td>746</td>\n",
       "      <td>905258</td>\n",
       "      <td>8:00:00</td>\n",
       "      <td>5</td>\n",
       "      <td>13</td>\n",
       "    </tr>\n",
       "  </tbody>\n",
       "</table>\n",
       "</div>"
      ],
      "text/plain": [
       "  O_DATA  O_LINENO  O_TERMINALNO  predHour  pred_start_stop_ID  \\\n",
       "0  10-28       678        904388  14:00:00                  12   \n",
       "1  10-26        13        902540  17:00:00                   7   \n",
       "2  10-27       711        906948  13:00:00                  12   \n",
       "3  10-28       912        907336  12:00:00                   8   \n",
       "4  10-28       746        905258   8:00:00                   5   \n",
       "\n",
       "   pred_end_stop_ID  \n",
       "0                33  \n",
       "1                19  \n",
       "2                44  \n",
       "3                31  \n",
       "4                13  "
      ]
     },
     "execution_count": 6,
     "metadata": {},
     "output_type": "execute_result"
    }
   ],
   "source": [
    "pre_data.head()"
   ]
  },
  {
   "cell_type": "code",
   "execution_count": 7,
   "metadata": {},
   "outputs": [],
   "source": [
    "flag_t=0\n",
    "Timestamps_series=[]\n",
    "for i in range(len(pre_data)):\n",
    "    m=predict['pred_start_stop_ID'].loc[i]\n",
    "    n=predict['pred_end_stop_ID'].loc[i]+1\n",
    "    i_series=[]\n",
    "    sum_time=0\n",
    "    for j in range(m,n):\n",
    "#          predict.iloc[i,'M%d'%j]=j\n",
    "          sum_time=sum_time+data['time'].values[flag_t]\n",
    "          i_series.append(sum_time)\n",
    "          flag_t=flag_t+1\n",
    "    Timestamps_series.append(i_series)\n",
    "    \n",
    "pre_data['TimeStamps']=Timestamps_series"
   ]
  },
  {
   "cell_type": "code",
   "execution_count": 8,
   "metadata": {},
   "outputs": [
    {
     "data": {
      "text/plain": [
       "[83.46180320182776,\n",
       " 148.67429215416257,\n",
       " 284.71874236272834,\n",
       " 353.2839934713463,\n",
       " 461.61677804207426,\n",
       " 652.8629772596892,\n",
       " 747.5077903912926,\n",
       " 805.8308959014993,\n",
       " 878.549309520666,\n",
       " 1036.2716194494706,\n",
       " 1084.7707647863886,\n",
       " 1180.8020309440644,\n",
       " 1347.7584985793185]"
      ]
     },
     "execution_count": 8,
     "metadata": {},
     "output_type": "execute_result"
    }
   ],
   "source": [
    "pre_data['TimeStamps'].loc[1]"
   ]
  },
  {
   "cell_type": "code",
   "execution_count": 9,
   "metadata": {},
   "outputs": [],
   "source": [
    "pre_data.to_csv('Data/result_xgboost2.csv')"
   ]
  },
  {
   "cell_type": "code",
   "execution_count": 10,
   "metadata": {},
   "outputs": [],
   "source": [
    "import csv\n",
    "def createListCSV(fileName=\"\", dataList=[]):\n",
    "\n",
    "    with open(fileName, \"w\",newline='') as csvFile:\n",
    "        csvWriter = csv.writer(csvFile,delimiter=';')\n",
    "        for data in dataList:\n",
    "            csvWriter.writerow(data)\n",
    "    csvFile.close\n",
    "\n",
    "createListCSV(\"Data/test.csv\", pre_data['TimeStamps'])"
   ]
  },
  {
   "cell_type": "code",
   "execution_count": 11,
   "metadata": {},
   "outputs": [],
   "source": [
    "data_time=pd.read_csv('Data/test.csv',names=['pred_timeStamps'])"
   ]
  },
  {
   "cell_type": "code",
   "execution_count": 12,
   "metadata": {},
   "outputs": [
    {
     "data": {
      "text/plain": [
       "(31701, 1)"
      ]
     },
     "execution_count": 12,
     "metadata": {},
     "output_type": "execute_result"
    }
   ],
   "source": [
    "data_time.shape"
   ]
  },
  {
   "cell_type": "code",
   "execution_count": 13,
   "metadata": {},
   "outputs": [
    {
     "data": {
      "text/plain": [
       "<bound method DataFrame.set_index of                                          pred_timeStamps\n",
       "0      302.76374360768995;419.06067955965005;742.9730...\n",
       "1      83.46180320182776;148.67429215416257;284.71874...\n",
       "2      78.63895725514284;130.44537422268039;231.96628...\n",
       "3      134.19233154110748;262.8169346256128;490.50765...\n",
       "4      75.76973202463266;281.0814847087463;467.156313...\n",
       "5      174.3260446493077;287.00915380443485;447.02657...\n",
       "6      114.94285714285714;273.53544973544973;363.6708...\n",
       "7      134.79836127551724;233.00103666655423;367.7993...\n",
       "8      89.65818082033155;157.13906610000487;248.70605...\n",
       "9      83.04155425894557;581.3748875922788;641.276928...\n",
       "10     157.9704115126125;210.28939828721255;327.88468...\n",
       "11     50.40174644654149;204.91684799793506;267.62992...\n",
       "12     68.61570323992851;240.83553439476384;436.14799...\n",
       "13     50.59015278827161;109.84571903519819;179.01001...\n",
       "14     180.5886468463856;306.15954519232525;491.65657...\n",
       "15     51.43249362638121;208.48957397715762;265.14172...\n",
       "16     113.56668839809416;218.91943965024237;301.4194...\n",
       "17     148.19814792172468;201.60183933394052;272.7228...\n",
       "18     66.69589241062884;145.58564721180767;207.70369...\n",
       "19     48.35318615914454;196.27122955177379;244.24269...\n",
       "20     67.6507839766917;137.84165723333038;330.507080...\n",
       "21     80.45208071327023;282.26520856886833;431.19724...\n",
       "22     143.4281354807214;283.4613879312935;428.825189...\n",
       "23     41.169420194420645;108.3766183781373;190.04218...\n",
       "24     50.85695572769066;104.0117891586562;139.986447...\n",
       "25     159.19011143427474;242.9625958304958;245.15178...\n",
       "26     88.48218795731646;163.4815429455968;261.415707...\n",
       "27     204.8454848393781;336.0937008567497;452.362671...\n",
       "28     91.29122214434578;163.7493516322334;378.417422...\n",
       "29     138.7470432838854;355.0213175581597;1182.42086...\n",
       "...                                                  ...\n",
       "31671  44.65513246957457;115.00902657937846;199.97976...\n",
       "31672  59.019111110129096;125.34566505986618;191.5336...\n",
       "31673  61.846306471306455;146.3859806518374;266.85650...\n",
       "31674  169.77697822923827;284.14985261579034;342.2820...\n",
       "31675  117.16709802380409;310.54596592197805;467.5989...\n",
       "31676  102.79192520239641;161.50719367150077;294.4736...\n",
       "31677  75.84937870832614;220.5748817000897;457.954318...\n",
       "31678  41.2410848557515;135.384374024769;313.74295062...\n",
       "31679  42.38809684459083;103.38490397630346;180.27115...\n",
       "31680  152.74479949981904;260.9714743382837;326.99456...\n",
       "31681  218.57567853156232;505.4668590523868;578.49833...\n",
       "31682  79.90255753737921;154.35067952044807;246.36451...\n",
       "31683  72.42607048678168;178.12990832026904;261.47649...\n",
       "31684  98.6451549304372;239.6539599409531;315.6433203...\n",
       "31685  90.84900905410036;194.39775045116806;262.20872...\n",
       "31686  269.3055680358308;458.2226329105938;737.244396...\n",
       "31687  171.07391547247522;311.0880753445528;405.43541...\n",
       "31688  100.38340058076349;256.3999556497901;317.23477...\n",
       "31689  143.16071710893974;319.45436130061165;495.9463...\n",
       "31690  56.375526008498824;123.43359419921241;268.2129...\n",
       "31691  147.96145253575753;302.91164405368465;434.8418...\n",
       "31692  149.01413121941022;337.9991668784535;412.34738...\n",
       "31693  324.0754076086956;498.3245304157132;670.616973...\n",
       "31694  77.7574422842238;178.50582538957832;212.208189...\n",
       "31695  50.23828887615653;133.68543945009066;327.47151...\n",
       "31696  31.08724832214765;52.6572310956188;85.44983906...\n",
       "31697  271.30784270208585;382.6156726415837;603.44165...\n",
       "31698  43.310435147392596;181.95453952536303;259.1165...\n",
       "31699  142.56706133940946;246.15810070323926;324.4141...\n",
       "31700  62.2161731944813;121.5226442345841;267.3342959...\n",
       "\n",
       "[31701 rows x 1 columns]>"
      ]
     },
     "execution_count": 13,
     "metadata": {},
     "output_type": "execute_result"
    }
   ],
   "source": [
    "data_time.set_index"
   ]
  },
  {
   "cell_type": "code",
   "execution_count": 14,
   "metadata": {},
   "outputs": [],
   "source": [
    "col_selection=['O_DATA','O_LINENO','O_TERMINALNO','predHour','pred_start_stop_ID','pred_end_stop_ID']\n",
    "pre_data2=predict.loc[:,col_selection]"
   ]
  },
  {
   "cell_type": "code",
   "execution_count": 15,
   "metadata": {},
   "outputs": [],
   "source": [
    "forest_result=pre_data2.join(data_time)\n",
    "xx=forest_result[forest_result['O_DATA']=='10-28']"
   ]
  },
  {
   "cell_type": "code",
   "execution_count": 16,
   "metadata": {},
   "outputs": [
    {
     "data": {
      "text/plain": [
       "'134.19233154110748;262.8169346256128;490.50765283822886;596.0979979158648;752.6658123223549;822.2218866085461;881.2455462284432;967.9500169819075;1112.6218158448232;1204.5130900910328;1265.921901303749;1399.86344064064;1658.915070025505;1750.1568057197867;1825.134084434063;2027.176570707833;2188.1034339213693;2407.309911534817;2638.74041549865;2776.2352151752525;2854.2449087683576;2997.623822267185;3228.8217306471233;3438.776237719789'"
      ]
     },
     "execution_count": 16,
     "metadata": {},
     "output_type": "execute_result"
    }
   ],
   "source": [
    "xxy=xx[xx['O_LINENO']==912]\n",
    "xxy.pred_timeStamps.loc[3]"
   ]
  },
  {
   "cell_type": "code",
   "execution_count": 17,
   "metadata": {},
   "outputs": [],
   "source": [
    "forest_result.to_csv('Data/result_dtree_new.csv',index=None)"
   ]
  },
  {
   "cell_type": "code",
   "execution_count": null,
   "metadata": {},
   "outputs": [],
   "source": []
  },
  {
   "cell_type": "code",
   "execution_count": null,
   "metadata": {},
   "outputs": [],
   "source": []
  }
 ],
 "metadata": {
  "kernelspec": {
   "display_name": "Python 3",
   "language": "python",
   "name": "python3"
  },
  "language_info": {
   "codemirror_mode": {
    "name": "ipython",
    "version": 3
   },
   "file_extension": ".py",
   "mimetype": "text/x-python",
   "name": "python",
   "nbconvert_exporter": "python",
   "pygments_lexer": "ipython3",
   "version": "3.6.4"
  }
 },
 "nbformat": 4,
 "nbformat_minor": 2
}
