{
 "cells": [
  {
   "cell_type": "code",
   "execution_count": 1,
   "metadata": {},
   "outputs": [],
   "source": [
    "import numpy as np\n",
    "import pandas as pd\n"
   ]
  },
  {
   "cell_type": "code",
   "execution_count": null,
   "metadata": {},
   "outputs": [],
   "source": []
  },
  {
   "cell_type": "code",
   "execution_count": 18,
   "metadata": {},
   "outputs": [],
   "source": [
    "data=pd.read_csv('Data/pre_result_forest.csv')"
   ]
  },
  {
   "cell_type": "code",
   "execution_count": 19,
   "metadata": {},
   "outputs": [
    {
     "data": {
      "text/html": [
       "<div>\n",
       "<style>\n",
       "    .dataframe thead tr:only-child th {\n",
       "        text-align: right;\n",
       "    }\n",
       "\n",
       "    .dataframe thead th {\n",
       "        text-align: left;\n",
       "    }\n",
       "\n",
       "    .dataframe tbody tr th {\n",
       "        vertical-align: top;\n",
       "    }\n",
       "</style>\n",
       "<table border=\"1\" class=\"dataframe\">\n",
       "  <thead>\n",
       "    <tr style=\"text-align: right;\">\n",
       "      <th></th>\n",
       "      <th>Time</th>\n",
       "    </tr>\n",
       "  </thead>\n",
       "  <tbody>\n",
       "    <tr>\n",
       "      <th>0</th>\n",
       "      <td>157.149924</td>\n",
       "    </tr>\n",
       "    <tr>\n",
       "      <th>1</th>\n",
       "      <td>137.426241</td>\n",
       "    </tr>\n",
       "    <tr>\n",
       "      <th>2</th>\n",
       "      <td>111.011421</td>\n",
       "    </tr>\n",
       "    <tr>\n",
       "      <th>3</th>\n",
       "      <td>133.970057</td>\n",
       "    </tr>\n",
       "    <tr>\n",
       "      <th>4</th>\n",
       "      <td>184.983064</td>\n",
       "    </tr>\n",
       "  </tbody>\n",
       "</table>\n",
       "</div>"
      ],
      "text/plain": [
       "         Time\n",
       "0  157.149924\n",
       "1  137.426241\n",
       "2  111.011421\n",
       "3  133.970057\n",
       "4  184.983064"
      ]
     },
     "execution_count": 19,
     "metadata": {},
     "output_type": "execute_result"
    }
   ],
   "source": [
    "data.head()"
   ]
  },
  {
   "cell_type": "code",
   "execution_count": 102,
   "metadata": {},
   "outputs": [
    {
     "data": {
      "text/plain": [
       "[7, 8, 9, 10, 11, 12, 13, 14, 15, 16, 17, 18, 19]"
      ]
     },
     "execution_count": 102,
     "metadata": {},
     "output_type": "execute_result"
    }
   ],
   "source": [
    "predict=pd.read_csv('Data/toBePredicted_forUser.csv')\n",
    "station_series=[]\n",
    "for i in range(len(predict)):\n",
    "    m=predict['pred_start_stop_ID'].loc[i]\n",
    "    n=predict['pred_end_stop_ID'].loc[i]+1\n",
    "    i_series=[]\n",
    "    for j in range(m,n):\n",
    "#          predict.iloc[i,'M%d'%j]=j\n",
    "          i_series.append(j)\n",
    "    station_series.append(i_series)\n",
    "    \n",
    "predict['Middle_station']=station_series\n",
    "predict.head()\n",
    "predict.Middle_station.loc[1]"
   ]
  },
  {
   "cell_type": "code",
   "execution_count": 21,
   "metadata": {},
   "outputs": [],
   "source": [
    "col_selection=['O_DATA','O_LINENO','O_TERMINALNO','predHour','pred_start_stop_ID','pred_end_stop_ID']\n",
    "pre_data=predict.loc[:,col_selection]"
   ]
  },
  {
   "cell_type": "code",
   "execution_count": 22,
   "metadata": {},
   "outputs": [
    {
     "data": {
      "text/html": [
       "<div>\n",
       "<style>\n",
       "    .dataframe thead tr:only-child th {\n",
       "        text-align: right;\n",
       "    }\n",
       "\n",
       "    .dataframe thead th {\n",
       "        text-align: left;\n",
       "    }\n",
       "\n",
       "    .dataframe tbody tr th {\n",
       "        vertical-align: top;\n",
       "    }\n",
       "</style>\n",
       "<table border=\"1\" class=\"dataframe\">\n",
       "  <thead>\n",
       "    <tr style=\"text-align: right;\">\n",
       "      <th></th>\n",
       "      <th>O_DATA</th>\n",
       "      <th>O_LINENO</th>\n",
       "      <th>O_TERMINALNO</th>\n",
       "      <th>predHour</th>\n",
       "      <th>pred_start_stop_ID</th>\n",
       "      <th>pred_end_stop_ID</th>\n",
       "    </tr>\n",
       "  </thead>\n",
       "  <tbody>\n",
       "    <tr>\n",
       "      <th>0</th>\n",
       "      <td>10-28</td>\n",
       "      <td>678</td>\n",
       "      <td>904388</td>\n",
       "      <td>14:00:00</td>\n",
       "      <td>12</td>\n",
       "      <td>33</td>\n",
       "    </tr>\n",
       "    <tr>\n",
       "      <th>1</th>\n",
       "      <td>10-26</td>\n",
       "      <td>13</td>\n",
       "      <td>902540</td>\n",
       "      <td>17:00:00</td>\n",
       "      <td>7</td>\n",
       "      <td>19</td>\n",
       "    </tr>\n",
       "    <tr>\n",
       "      <th>2</th>\n",
       "      <td>10-27</td>\n",
       "      <td>711</td>\n",
       "      <td>906948</td>\n",
       "      <td>13:00:00</td>\n",
       "      <td>12</td>\n",
       "      <td>44</td>\n",
       "    </tr>\n",
       "    <tr>\n",
       "      <th>3</th>\n",
       "      <td>10-28</td>\n",
       "      <td>912</td>\n",
       "      <td>907336</td>\n",
       "      <td>12:00:00</td>\n",
       "      <td>8</td>\n",
       "      <td>31</td>\n",
       "    </tr>\n",
       "    <tr>\n",
       "      <th>4</th>\n",
       "      <td>10-28</td>\n",
       "      <td>746</td>\n",
       "      <td>905258</td>\n",
       "      <td>8:00:00</td>\n",
       "      <td>5</td>\n",
       "      <td>13</td>\n",
       "    </tr>\n",
       "  </tbody>\n",
       "</table>\n",
       "</div>"
      ],
      "text/plain": [
       "  O_DATA  O_LINENO  O_TERMINALNO  predHour  pred_start_stop_ID  \\\n",
       "0  10-28       678        904388  14:00:00                  12   \n",
       "1  10-26        13        902540  17:00:00                   7   \n",
       "2  10-27       711        906948  13:00:00                  12   \n",
       "3  10-28       912        907336  12:00:00                   8   \n",
       "4  10-28       746        905258   8:00:00                   5   \n",
       "\n",
       "   pred_end_stop_ID  \n",
       "0                33  \n",
       "1                19  \n",
       "2                44  \n",
       "3                31  \n",
       "4                13  "
      ]
     },
     "execution_count": 22,
     "metadata": {},
     "output_type": "execute_result"
    }
   ],
   "source": [
    "pre_data.head()"
   ]
  },
  {
   "cell_type": "code",
   "execution_count": 43,
   "metadata": {},
   "outputs": [],
   "source": [
    "flag_t=0\n",
    "Timestamps_series=[]\n",
    "for i in range(len(pre_data)):\n",
    "    m=predict['pred_start_stop_ID'].loc[i]\n",
    "    n=predict['pred_end_stop_ID'].loc[i]\n",
    "    i_series=[]\n",
    "    sum_time=0\n",
    "    for j in range(m,n):\n",
    "#          predict.iloc[i,'M%d'%j]=j\n",
    "          sum_time=sum_time+data['Time'].values[flag_t]\n",
    "          i_series.append(sum_time)\n",
    "          flag_t=flag_t+1\n",
    "    Timestamps_series.append(i_series)\n",
    "    \n",
    "pre_data['TimeStamps']=Timestamps_series"
   ]
  },
  {
   "cell_type": "code",
   "execution_count": 100,
   "metadata": {},
   "outputs": [
    {
     "data": {
      "text/plain": [
       "[108.47083030649999,\n",
       " 216.94166061299998,\n",
       " 325.4124909195,\n",
       " 432.9882503106,\n",
       " 540.1590464014,\n",
       " 648.4975655949,\n",
       " 757.2371234916001,\n",
       " 855.3040118196001,\n",
       " 954.1392839118,\n",
       " 1061.9480684597,\n",
       " 1171.3282648394,\n",
       " 1288.6048176079998]"
      ]
     },
     "execution_count": 100,
     "metadata": {},
     "output_type": "execute_result"
    }
   ],
   "source": [
    "pre_data['TimeStamps'].loc[1]"
   ]
  },
  {
   "cell_type": "code",
   "execution_count": 54,
   "metadata": {},
   "outputs": [],
   "source": [
    "pre_data.to_csv('Data/result_forest2.csv')"
   ]
  },
  {
   "cell_type": "code",
   "execution_count": 58,
   "metadata": {},
   "outputs": [],
   "source": [
    "import csv\n",
    "def createListCSV(fileName=\"\", dataList=[]):\n",
    "\n",
    "    with open(fileName, \"w\",newline='') as csvFile:\n",
    "        csvWriter = csv.writer(csvFile,delimiter=';')\n",
    "        for data in dataList:\n",
    "            csvWriter.writerow(data)\n",
    "    csvFile.close\n",
    "\n",
    "createListCSV(\"Data/test.csv\", pre_data['TimeStamps'])"
   ]
  },
  {
   "cell_type": "code",
   "execution_count": 78,
   "metadata": {},
   "outputs": [],
   "source": [
    "data_time=pd.read_csv('Data/test.csv',names=['pred_timeStamps'])"
   ]
  },
  {
   "cell_type": "code",
   "execution_count": 79,
   "metadata": {},
   "outputs": [
    {
     "data": {
      "text/plain": [
       "(31701, 1)"
      ]
     },
     "execution_count": 79,
     "metadata": {},
     "output_type": "execute_result"
    }
   ],
   "source": [
    "data_time.shape"
   ]
  },
  {
   "cell_type": "code",
   "execution_count": 80,
   "metadata": {},
   "outputs": [
    {
     "data": {
      "text/plain": [
       "<bound method DataFrame.set_index of                                          pred_timeStamps\n",
       "0      157.1499236462;294.5761651033;405.5875863789;5...\n",
       "1      108.47083030649999;216.94166061299998;325.4124...\n",
       "2      75.6548431829;155.5992890691;235.5437349553;31...\n",
       "3      106.4196325821;214.86904647609998;343.18116987...\n",
       "4      162.6166972506;519.401872394;1415.0680329702;1...\n",
       "5      131.0097595046;263.5732542403;405.0902349683;5...\n",
       "6      93.7754469339;234.06588622750002;310.966030993...\n",
       "7      111.472923888;245.2769451832;356.4752026567000...\n",
       "8      93.89178977780001;180.0000452824;266.486982517...\n",
       "9      118.5269231823;304.2352658089;508.565503900700...\n",
       "10     84.84821689520001;169.69643379040002;254.43497...\n",
       "11     124.88461089479999;243.4468154999;352.49068898...\n",
       "12     114.8608943154;232.6361165585;362.0215802619;5...\n",
       "13     93.0829151789;173.9866983809;253.8377704082000...\n",
       "14     56.6409845679;148.78990909089998;239.568616805...\n",
       "15     133.89093954950002;232.08309358890003;330.9260...\n",
       "16     106.95605342040001;216.4549671016;351.94239595...\n",
       "17     69.3975883034;138.7951766068;208.1927649102;27...\n",
       "18     88.3815874218;173.47298584010002;258.564384258...\n",
       "19     123.3002707857;249.0911478224;370.534637656199...\n",
       "20     147.0113778168;287.2783602101;419.5091862183;5...\n",
       "21     114.0913626972;228.28221129269997;353.12161164...\n",
       "22     88.7372568741;177.1940398922;267.6170742283;35...\n",
       "23     147.2396491812;293.00465314990004;468.12420976...\n",
       "24     180.544653166;473.76486393;698.7622993154;1045...\n",
       "25     98.6199722773;199.5476986032;327.2802258061;47...\n",
       "26     128.5586957733;236.896524729;332.2515431245;42...\n",
       "27     129.6475013408;273.2806073145;466.7159431745;5...\n",
       "28     105.33901753290002;207.37211101740002;316.0003...\n",
       "29     93.7794702293;187.5589404586;282.1074141735;38...\n",
       "...                                                  ...\n",
       "31671  143.3435516283;231.8253531573;337.012434466799...\n",
       "31672  117.81703933959999;243.1461830395;359.73555342...\n",
       "31673  109.8224978253;218.3628070738;328.0132381051;5...\n",
       "31674  160.57111454;270.7755628504;380.1856235353;475...\n",
       "31675  126.9728882502;298.3011152798;407.3620246713;5...\n",
       "31676  88.54876278559999;177.7738919018;267.117746323...\n",
       "31677  123.6516389067;262.4118907972;394.562943955099...\n",
       "31678  213.1994562936;589.9529210286;781.7427906476;9...\n",
       "31679  135.6372130274;284.3028886175;511.4104231668;6...\n",
       "31680  127.58883592709999;233.0423102748;347.31344660...\n",
       "31681  218.79051665490002;450.65119287699997;566.6401...\n",
       "31682  114.5453779016;216.8125881465;318.2220692359;4...\n",
       "31683  172.6384968691;316.3165391799;449.8830507192;5...\n",
       "31684  145.052232927;387.3497103218;480.4048837346;83...\n",
       "31685  120.8890248382;244.9438998981;374.1684590288;4...\n",
       "31686  149.0015820529;316.2884499344;475.9156225695;6...\n",
       "31687  279.6605050296;592.2095473952;820.6081282735;9...\n",
       "31688  111.1164418509;210.9879992444;363.4419177512;5...\n",
       "31689  132.3333212726;263.6845210546;402.3561497446;4...\n",
       "31690  83.6180643978;181.2501598472;275.0489677674;36...\n",
       "31691  132.4222842519;278.1822588846;427.2849325788;5...\n",
       "31692  103.0269642317;219.2861223492;308.8778488427;3...\n",
       "31693  1050.7645822986;1147.4385533413001;1225.830647...\n",
       "31694  92.0439553934;184.1604717848;276.395757017;367...\n",
       "31695  82.8178026895;165.1566363513;250.5675167126;33...\n",
       "31696  77.9836891774;156.13363682519997;234.519414101...\n",
       "31697  138.3373909323;281.9731515147;435.8729253844;5...\n",
       "31698  227.3493352653;358.7823625456;481.6201677647;6...\n",
       "31699  114.5445568039;238.6941461663;359.8436316019;4...\n",
       "31700  124.1073801167;257.91491952260003;390.98053833...\n",
       "\n",
       "[31701 rows x 1 columns]>"
      ]
     },
     "execution_count": 80,
     "metadata": {},
     "output_type": "execute_result"
    }
   ],
   "source": [
    "data_time.set_index"
   ]
  },
  {
   "cell_type": "code",
   "execution_count": 81,
   "metadata": {},
   "outputs": [],
   "source": [
    "col_selection=['O_DATA','O_LINENO','O_TERMINALNO','predHour','pred_start_stop_ID','pred_end_stop_ID']\n",
    "pre_data2=predict.loc[:,col_selection]"
   ]
  },
  {
   "cell_type": "code",
   "execution_count": 89,
   "metadata": {},
   "outputs": [],
   "source": [
    "forest_result=pre_data2.join(data_time)\n",
    "xx=forest_result[forest_result['O_DATA']=='10-28']"
   ]
  },
  {
   "cell_type": "code",
   "execution_count": 97,
   "metadata": {},
   "outputs": [
    {
     "data": {
      "text/plain": [
       "'106.4196325821;214.86904647609998;343.18116987819997;473.20606212429993;636.4224091940999;817.2832797332;1017.1488812596999;1157.029112666;1302.7188583175;1449.3678557954;1629.6938267537;1810.1527444987;1996.6926770592;2172.0973599637;2292.5657281632;2454.0301140223;2634.0001184498;2720.8662420035002;2876.2681504438;3001.1798092352;3192.5101036788;3378.2561889828003;3464.9397289784'"
      ]
     },
     "execution_count": 97,
     "metadata": {},
     "output_type": "execute_result"
    }
   ],
   "source": [
    "xxy=xx[xx['O_LINENO']==912]\n",
    "xxy.pred_timeStamps.loc[3]"
   ]
  },
  {
   "cell_type": "code",
   "execution_count": 87,
   "metadata": {},
   "outputs": [],
   "source": [
    "forest_result.to_csv('Data/result_forest.csv',index=None)"
   ]
  },
  {
   "cell_type": "code",
   "execution_count": null,
   "metadata": {},
   "outputs": [],
   "source": []
  }
 ],
 "metadata": {
  "kernelspec": {
   "display_name": "Python 3",
   "language": "python",
   "name": "python3"
  },
  "language_info": {
   "codemirror_mode": {
    "name": "ipython",
    "version": 3
   },
   "file_extension": ".py",
   "mimetype": "text/x-python",
   "name": "python",
   "nbconvert_exporter": "python",
   "pygments_lexer": "ipython3",
   "version": "3.6.4"
  }
 },
 "nbformat": 4,
 "nbformat_minor": 2
}
